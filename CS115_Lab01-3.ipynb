{
  "nbformat": 4,
  "nbformat_minor": 5,
  "metadata": {
    "colab": {
      "provenance": []
    },
    "kernelspec": {
      "name": "python3",
      "language": "python",
      "display_name": "Python 3"
    },
    "language_info": {
      "name": "python",
      "version": "3"
    }
  },
  "cells": [
    {
      "cell_type": "markdown",
      "metadata": {
        "id": "7IWFN9VJLD_L"
      },
      "source": [
        "# CS 115 — Lab 01: Welcome to Programming with Colab\n",
        "Sonoma State University • Computer Science • Fall 2025  \n",
        "**Sections:** 001 / 002 / 003  \n",
        "**Instructor:** Andrew Bond (andrew.bond@sonoma.edu)\n",
        "\n",
        "This lab happens **before our first class session**. You don’t need any programming background! Today we’ll just:\n",
        "- Learn how to open and run a Colab notebook\n",
        "- Write your first Python commands\n",
        "- Add a short Markdown reflection\n",
        "\n",
        "**What to turn in:** Upload your completed notebook to Canvas at the end.\n"
      ],
      "id": "7IWFN9VJLD_L"
    },
    {
      "cell_type": "markdown",
      "metadata": {
        "id": "odWWsPEVLD_O"
      },
      "source": [
        "## Warm-up (1 pt)\n",
        "Run the cell below. It should print today’s date and your Python version."
      ],
      "id": "odWWsPEVLD_O"
    },
    {
      "cell_type": "code",
      "metadata": {
        "id": "warmup",
        "colab": {
          "base_uri": "https://localhost:8080/"
        },
        "outputId": "f48971c1-2fe1-4407-9527-4e36718aa739"
      },
      "execution_count": 5,
      "outputs": [
        {
          "output_type": "stream",
          "name": "stdout",
          "text": [
            "Python: 3.12.11\n",
            "Today: 2025-08-19\n"
          ]
        }
      ],
      "source": [
        "import sys, datetime\n",
        "print(\"Python:\", sys.version.split()[0])\n",
        "print(\"Today:\", datetime.date.today().isoformat())"
      ],
      "id": "warmup"
    },
    {
      "cell_type": "markdown",
      "metadata": {
        "id": "u5RLbvfPLD_Q"
      },
      "source": [
        "## Q1: Print your name (1 pt)\n",
        "Use the `print()` function to say hello with your name.\n",
        "\n",
        "**Example**:\n",
        "```python\n",
        "print(\"Hello, my name is Ada\")\n",
        "```"
      ],
      "id": "u5RLbvfPLD_Q"
    },
    {
      "cell_type": "code",
      "metadata": {
        "id": "q1",
        "colab": {
          "base_uri": "https://localhost:8080/"
        },
        "outputId": "95149ace-e6ff-467c-b3fa-2c036a341e0f"
      },
      "execution_count": 3,
      "outputs": [
        {
          "output_type": "stream",
          "name": "stdout",
          "text": [
            "Hello, my name is Louiegino\n"
          ]
        }
      ],
      "source": [
        "# TODO: Change this to your own name\n",
        "print(\"Hello, my name is Louiegino\")"
      ],
      "id": "q1"
    },
    {
      "cell_type": "markdown",
      "metadata": {
        "id": "9fYCBdLxLD_Q"
      },
      "source": [
        "## Q2: Print some math (1 pt)\n",
        "Try using Python as a calculator. Print the answers to a few math problems.\n",
        "\n",
        "**Examples**:\n",
        "```python\n",
        "print(2 + 3)\n",
        "print(10 - 4)\n",
        "print(7 * 6)\n",
        "```"
      ],
      "id": "9fYCBdLxLD_Q"
    },
    {
      "cell_type": "code",
      "metadata": {
        "id": "q2",
        "colab": {
          "base_uri": "https://localhost:8080/"
        },
        "outputId": "bf226abd-8481-4a18-b084-00677b031208"
      },
      "execution_count": 1,
      "outputs": [
        {
          "output_type": "stream",
          "name": "stdout",
          "text": [
            "9\n",
            "6\n",
            "14\n"
          ]
        }
      ],
      "source": [
        "# TODO: Add your own math expressions\n",
        "print(4 + 5)\n",
        "print(9 - 3)\n",
        "print(2 * 7)"
      ],
      "id": "q2"
    },
    {
      "cell_type": "markdown",
      "metadata": {
        "id": "AEkQ9Mk3LD_R"
      },
      "source": [
        "## Q3: Add some Markdown text (1 pt)\n",
        "Add a **Text cell** (instead of Code). Type something like:\n",
        "\n",
        "- This is my first lab in CS115!\n",
        "- I’m excited to learn Python.\n",
        "\n",
        "Try bold (**word**), italics (*word*), or a list.\n"
      ],
      "id": "AEkQ9Mk3LD_R"
    },
    {
      "cell_type": "markdown",
      "source": [
        "This is my **first** lab *in* CS115!"
      ],
      "metadata": {
        "id": "c-835LRZLml-"
      },
      "id": "c-835LRZLml-"
    },
    {
      "cell_type": "markdown",
      "metadata": {
        "id": "sUWb8DH_LD_R"
      },
      "source": [
        "## Q4: Reflection (1 pt)\n",
        "Answer in a Text/Markdown cell:\n",
        "1. One thing I learned today:\n",
        "2. One question I still have:\n",
        "3. (If applicable) **AI usage note**: Did you use any AI tool? If so, what did you ask and how did you use the answer?\n"
      ],
      "id": "sUWb8DH_LD_R"
    },
    {
      "cell_type": "markdown",
      "source": [
        "1. One thing I learned today was you can use python as a calculator.\n",
        "2. A question I still have is are you able to plug in any equations into python?"
      ],
      "metadata": {
        "id": "1l7GnvlHMkC7"
      },
      "id": "1l7GnvlHMkC7"
    },
    {
      "cell_type": "markdown",
      "metadata": {
        "id": "aXY2U3MQLD_R"
      },
      "source": [
        "## Stretch (optional, ungraded)\n",
        "Edit this program to say something fun about you.\n"
      ],
      "id": "aXY2U3MQLD_R"
    },
    {
      "cell_type": "code",
      "metadata": {
        "id": "stretch",
        "colab": {
          "base_uri": "https://localhost:8080/"
        },
        "outputId": "4d28e719-5c3a-4582-fab7-05bf674f5730"
      },
      "execution_count": 4,
      "outputs": [
        {
          "output_type": "stream",
          "name": "stdout",
          "text": [
            "I love to golf\n",
            "I like steak\n"
          ]
        }
      ],
      "source": [
        "print(\"I love to golf\")\n",
        "print(\"I like steak\")"
      ],
      "id": "stretch"
    },
    {
      "cell_type": "markdown",
      "metadata": {
        "id": "97sB67XLLD_R"
      },
      "source": [
        "_Last updated: August 19, 2025_"
      ],
      "id": "97sB67XLLD_R"
    }
  ]
}